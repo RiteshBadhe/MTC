{
 "cells": [
  {
   "cell_type": "markdown",
   "id": "2d967b90-6663-4dcf-9d73-51094906c49b",
   "metadata": {},
   "source": [
    "LPP"
   ]
  },
  {
   "cell_type": "markdown",
   "id": "dd3f119c-d1c5-4e58-a1a7-0b66e153a4eb",
   "metadata": {},
   "source": [
    "(i) Write a Python program to solve the following LPP:\n",
    "Max Z = 150x + 75y\n",
    "subject to 4x + 6y ≤ 24\n",
    "5x + 3y ≤ 15\n",
    "x ≥ 0, y ≥ 0."
   ]
  },
  {
   "cell_type": "code",
   "execution_count": 3,
   "id": "217d0aa9-e8d7-453c-97cd-a3c8f8d8a6ca",
   "metadata": {},
   "outputs": [
    {
     "data": {
      "text/plain": [
       "LPP:\n",
       "MAXIMIZE\n",
       "150*x + 75*y + 0\n",
       "SUBJECT TO\n",
       "_C1: 4 x + 6 y <= 24\n",
       "\n",
       "_C2: 5 x + 3 y <= 15\n",
       "\n",
       "VARIABLES\n",
       "x Continuous\n",
       "y Continuous"
      ]
     },
     "execution_count": 3,
     "metadata": {},
     "output_type": "execute_result"
    }
   ],
   "source": [
    "from pulp import*\n",
    "lpp=LpProblem(name='LPP', sense=LpMaximize)\n",
    "x=LpVariable(\"x\", lowBound=0)\n",
    "y=LpVariable(\"y\", lowBound=0) \n",
    "lpp +=(4*x + 6 * y <= 24)\n",
    "lpp +=(5*x + 3* y <= 15)\n",
    "lpp += (150*x + 75 * y)\n",
    "lpp"
   ]
  },
  {
   "cell_type": "markdown",
   "id": "cc2acb0d-075e-4f50-b2bc-5e26c6375661",
   "metadata": {},
   "source": [
    "\n",
    "\n",
    "\n",
    "\n",
    "\n",
    "(i) Apply Python program in each of the following transformations on the point P[3,−1]\n",
    "(I) Refection through X−axis.\n",
    "(II) Scaling in X−coordinate by factor 2.\n",
    "(III) Scaling in Y−coordinate by factor 1.5.\n",
    "(IV) Reflection through the line y = x."
   ]
  },
  {
   "cell_type": "code",
   "execution_count": null,
   "id": "c46f6840-6d53-4e74-b6b3-e6472a2ff2a4",
   "metadata": {},
   "outputs": [],
   "source": []
  },
  {
   "cell_type": "code",
   "execution_count": null,
   "id": "9834a1f6-8ba3-4ace-a6f4-a74d03b2bafd",
   "metadata": {},
   "outputs": [],
   "source": []
  }
 ],
 "metadata": {
  "kernelspec": {
   "display_name": "Python 3 (ipykernel)",
   "language": "python",
   "name": "python3"
  },
  "language_info": {
   "codemirror_mode": {
    "name": "ipython",
    "version": 3
   },
   "file_extension": ".py",
   "mimetype": "text/x-python",
   "name": "python",
   "nbconvert_exporter": "python",
   "pygments_lexer": "ipython3",
   "version": "3.12.4"
  }
 },
 "nbformat": 4,
 "nbformat_minor": 5
}
