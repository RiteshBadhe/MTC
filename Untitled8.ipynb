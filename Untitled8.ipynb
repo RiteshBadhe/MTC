{
 "cells": [
  {
   "cell_type": "code",
   "execution_count": 1,
   "id": "6deaa893-5e4b-435e-9e32-a2536862ac8c",
   "metadata": {},
   "outputs": [
    {
     "name": "stdout",
     "output_type": "stream",
     "text": [
      "hello\n"
     ]
    }
   ],
   "source": [
    "print(\"hello\")"
   ]
  },
  {
   "cell_type": "code",
   "execution_count": 43,
   "id": "e3d66b02-7f8d-4bbb-af3f-716aeec006aa",
   "metadata": {},
   "outputs": [
    {
     "data": {
      "text/plain": [
       "LPP:\n",
       "MAXIMIZE\n",
       "150*x + 75*y + 0\n",
       "SUBJECT TO\n",
       "_C1: 4 x + 6 y <= 24\n",
       "\n",
       "_C2: 5 x + 3 y <= 15\n",
       "\n",
       "VARIABLES\n",
       "x Continuous\n",
       "y Continuous"
      ]
     },
     "execution_count": 43,
     "metadata": {},
     "output_type": "execute_result"
    }
   ],
   "source": [
    "from pulp import*\n",
    "lpp = LpProblem( name = 'LPP' , sense = LpMaximize)\n",
    "x = LpVariable(\"x\", lowBound = 0)\n",
    "y = LpVariable(\"y\", lowBound = 0)\n",
    "lpp += 4 * x + 6 * y <= 24\n",
    "lpp += 5 * x +3 * y  <= 15 \n",
    "lpp += 150 * x + 75 * y\n",
    "lpp"
   ]
  },
  {
   "cell_type": "code",
   "execution_count": 45,
   "id": "bea600be-129c-4e19-aa63-1bd880ff9033",
   "metadata": {},
   "outputs": [
    {
     "data": {
      "text/plain": [
       "1"
      ]
     },
     "execution_count": 45,
     "metadata": {},
     "output_type": "execute_result"
    }
   ],
   "source": [
    "lpp.solve()"
   ]
  },
  {
   "cell_type": "code",
   "execution_count": 47,
   "id": "ba223e24-6a01-41ec-a038-bce04117f459",
   "metadata": {},
   "outputs": [
    {
     "data": {
      "text/plain": [
       "450.0"
      ]
     },
     "execution_count": 47,
     "metadata": {},
     "output_type": "execute_result"
    }
   ],
   "source": [
    "lpp.objective.value()"
   ]
  },
  {
   "cell_type": "code",
   "execution_count": 49,
   "id": "e799d7c9-a146-4f9c-a6ea-2a1d18a3f84d",
   "metadata": {},
   "outputs": [
    {
     "data": {
      "text/plain": [
       "3.0"
      ]
     },
     "execution_count": 49,
     "metadata": {},
     "output_type": "execute_result"
    }
   ],
   "source": [
    "x.value()"
   ]
  },
  {
   "cell_type": "code",
   "execution_count": 51,
   "id": "8b14167d-eae4-4358-b3cf-276ca4c83558",
   "metadata": {},
   "outputs": [
    {
     "data": {
      "text/plain": [
       "<bound method LpVariable.value of y>"
      ]
     },
     "execution_count": 51,
     "metadata": {},
     "output_type": "execute_result"
    }
   ],
   "source": [
    "y.value"
   ]
  },
  {
   "cell_type": "code",
   "execution_count": 53,
   "id": "e136aa80-3ce5-4063-926a-bb6efe9847a1",
   "metadata": {},
   "outputs": [
    {
     "data": {
      "text/plain": [
       "LPP:\n",
       "MAXIMIZE\n",
       "1*x + 1*y + 0\n",
       "SUBJECT TO\n",
       "_C1: x >= 6\n",
       "\n",
       "_C2: y >= 6\n",
       "\n",
       "_C3: x + y <= 11\n",
       "\n",
       "VARIABLES\n",
       "x Continuous\n",
       "y Continuous"
      ]
     },
     "execution_count": 53,
     "metadata": {},
     "output_type": "execute_result"
    }
   ],
   "source": [
    "from pulp import*\n",
    "lpp = LpProblem(name = \"LPP\", sense = LpMaximize)\n",
    "x = LpVariable(\"x\",lowBound = 0)\n",
    "y = LpVariable(\"y\",lowBound = 0)\n",
    "lpp += x >=6\n",
    "lpp += y >=6\n",
    "lpp += x + y <= 11\n",
    "lpp += x + y\n",
    "lpp"
   ]
  },
  {
   "cell_type": "code",
   "execution_count": 55,
   "id": "8d1f1ac5-4f1c-4ecd-9da9-fe92a97d2fdc",
   "metadata": {},
   "outputs": [
    {
     "data": {
      "text/plain": [
       "-1"
      ]
     },
     "execution_count": 55,
     "metadata": {},
     "output_type": "execute_result"
    }
   ],
   "source": [
    "lpp.solve()"
   ]
  },
  {
   "cell_type": "code",
   "execution_count": 57,
   "id": "8d9cd407-6dc9-4c0f-a6a0-547d03ee409c",
   "metadata": {},
   "outputs": [
    {
     "data": {
      "text/plain": [
       "11.0"
      ]
     },
     "execution_count": 57,
     "metadata": {},
     "output_type": "execute_result"
    }
   ],
   "source": [
    "lpp.objective.value()"
   ]
  },
  {
   "cell_type": "code",
   "execution_count": 59,
   "id": "5df6d462-426c-45aa-b1a9-79184075cf28",
   "metadata": {},
   "outputs": [
    {
     "data": {
      "text/plain": [
       "5.0"
      ]
     },
     "execution_count": 59,
     "metadata": {},
     "output_type": "execute_result"
    }
   ],
   "source": [
    "x.value()"
   ]
  },
  {
   "cell_type": "code",
   "execution_count": 61,
   "id": "5af8c514-dc9a-44a6-9df6-0578b385dbaf",
   "metadata": {},
   "outputs": [
    {
     "data": {
      "text/plain": [
       "6.0"
      ]
     },
     "execution_count": 61,
     "metadata": {},
     "output_type": "execute_result"
    }
   ],
   "source": [
    "y.value()"
   ]
  },
  {
   "cell_type": "code",
   "execution_count": 79,
   "id": "8d5059de-5dec-4ba2-adaa-013c67aa64ee",
   "metadata": {},
   "outputs": [],
   "source": [
    "from sympy import*\n",
    "p = [3,-1]"
   ]
  },
  {
   "cell_type": "code",
   "execution_count": 81,
   "id": "bd4f8fe4-ffda-4886-ba99-550b82a161f4",
   "metadata": {},
   "outputs": [
    {
     "data": {
      "text/plain": [
       "[3, -1]"
      ]
     },
     "execution_count": 81,
     "metadata": {},
     "output_type": "execute_result"
    }
   ],
   "source": [
    "p"
   ]
  },
  {
   "cell_type": "code",
   "execution_count": 99,
   "id": "1d0e94cd-91cb-4282-bf62-5288ed85da69",
   "metadata": {},
   "outputs": [
    {
     "data": {
      "text/latex": [
       "$\\displaystyle \\operatorname{Point2D}\\left(3, 1\\right)$"
      ],
      "text/plain": [
       "Point2D(3, 1)"
      ]
     },
     "execution_count": 99,
     "metadata": {},
     "output_type": "execute_result"
    }
   ],
   "source": [
    "\n",
    "p = Point(3,-1)\n",
    "p.transform(Matrix([[1,0,0],[0,-1,0],[0,0,1]]))"
   ]
  },
  {
   "cell_type": "code",
   "execution_count": 101,
   "id": "6accdd38-e035-4ccb-9371-ed2a60f77909",
   "metadata": {},
   "outputs": [
    {
     "data": {
      "text/latex": [
       "$\\displaystyle \\operatorname{Point2D}\\left(3, -1\\right)$"
      ],
      "text/plain": [
       "Point2D(3, -1)"
      ]
     },
     "execution_count": 101,
     "metadata": {},
     "output_type": "execute_result"
    }
   ],
   "source": [
    "p.scale()"
   ]
  },
  {
   "cell_type": "markdown",
   "id": "8c169adc-d85e-4faa-b74f-922787e12b25",
   "metadata": {},
   "source": [
    "(i) Apply Python program in each of the following transformations on the point P[3,−1]\n",
    "(I) Refection through X−axis.\n",
    "(II) Scaling in X−coordinate by factor 2.\n",
    "(III) Scaling in Y−coordinate by factor 1.5.\n",
    "(IV) Reflection through the line y = x."
   ]
  },
  {
   "cell_type": "markdown",
   "id": "53ce33be-c05e-44da-8235-63f03f1419dd",
   "metadata": {},
   "source": [
    " (I) Refection through X−axis. "
   ]
  },
  {
   "cell_type": "code",
   "execution_count": 107,
   "id": "ac5ab0af-2fe9-46d4-95a8-4ec3cacef513",
   "metadata": {},
   "outputs": [],
   "source": [
    "p = [3,-1]"
   ]
  },
  {
   "cell_type": "code",
   "execution_count": 109,
   "id": "2ae7f061-0fef-41f7-90bb-6adf7dadf00c",
   "metadata": {},
   "outputs": [
    {
     "data": {
      "text/plain": [
       "[3, -1]"
      ]
     },
     "execution_count": 109,
     "metadata": {},
     "output_type": "execute_result"
    }
   ],
   "source": [
    "p"
   ]
  },
  {
   "cell_type": "code",
   "execution_count": 113,
   "id": "5c84593d-8536-4539-9a79-1a6281966d51",
   "metadata": {},
   "outputs": [
    {
     "data": {
      "text/latex": [
       "$\\displaystyle \\operatorname{Point2D}\\left(3, 1\\right)$"
      ],
      "text/plain": [
       "Point2D(3, 1)"
      ]
     },
     "execution_count": 113,
     "metadata": {},
     "output_type": "execute_result"
    }
   ],
   "source": [
    "from sympy import*\n",
    "p=Point(3,-1)\n",
    "p.transform(Matrix([[1,0,0],[0,-1,0],[0,0,1]])) "
   ]
  },
  {
   "cell_type": "markdown",
   "id": "4900feb9-54fd-4a5d-aad2-256600fc599d",
   "metadata": {},
   "source": [
    " (II) Scaling in X−coordinate by factor 2"
   ]
  },
  {
   "cell_type": "code",
   "execution_count": 118,
   "id": "b704b58b-415b-4ebf-a512-8a85eb0ff738",
   "metadata": {},
   "outputs": [
    {
     "data": {
      "text/latex": [
       "$\\displaystyle \\operatorname{Point2D}\\left(6, 0\\right)$"
      ],
      "text/plain": [
       "Point2D(6, 0)"
      ]
     },
     "execution_count": 118,
     "metadata": {},
     "output_type": "execute_result"
    }
   ],
   "source": [
    "p.scale(2,0)"
   ]
  },
  {
   "cell_type": "markdown",
   "id": "1eb562a2-701f-4a64-ae93-37d3f9b98346",
   "metadata": {},
   "source": [
    " (III) Scaling in Y−coordinate by factor 1.5. "
   ]
  },
  {
   "cell_type": "code",
   "execution_count": 122,
   "id": "c469d281-eec5-4ed1-847e-9292c26f64b9",
   "metadata": {},
   "outputs": [
    {
     "data": {
      "text/latex": [
       "$\\displaystyle \\operatorname{Point2D}\\left(0, - \\frac{3}{2}\\right)$"
      ],
      "text/plain": [
       "Point2D(0, -3/2)"
      ]
     },
     "execution_count": 122,
     "metadata": {},
     "output_type": "execute_result"
    }
   ],
   "source": [
    "p.scale(0,1.5)"
   ]
  },
  {
   "cell_type": "markdown",
   "id": "76150c66-8969-4ca2-b5f6-f3af8dbc703a",
   "metadata": {},
   "source": [
    "(IV) Reflection through the line y = x."
   ]
  },
  {
   "cell_type": "code",
   "execution_count": 129,
   "id": "7439d157-2890-44ef-96b3-52f73b559740",
   "metadata": {},
   "outputs": [
    {
     "data": {
      "text/latex": [
       "$\\displaystyle \\operatorname{Point2D}\\left(-1, 3\\right)$"
      ],
      "text/plain": [
       "Point2D(-1, 3)"
      ]
     },
     "execution_count": 129,
     "metadata": {},
     "output_type": "execute_result"
    }
   ],
   "source": [
    "x,y = symbols('x,y')\n",
    "p.reflect(Line(y-x))"
   ]
  },
  {
   "cell_type": "code",
   "execution_count": 137,
   "id": "42515ff1-b783-4703-8b60-1227c6471b4c",
   "metadata": {},
   "outputs": [
    {
     "data": {
      "text/latex": [
       "$\\displaystyle \\operatorname{Point2D}\\left(\\frac{1}{2} + \\frac{3 \\sqrt{3}}{2}, \\frac{3}{2} - \\frac{\\sqrt{3}}{2}\\right)$"
      ],
      "text/plain": [
       "Point2D(1/2 + 3*sqrt(3)/2, 3/2 - sqrt(3)/2)"
      ]
     },
     "execution_count": 137,
     "metadata": {},
     "output_type": "execute_result"
    }
   ],
   "source": [
    "p.rotate(pi/6)"
   ]
  },
  {
   "cell_type": "code",
   "execution_count": null,
   "id": "ce03428d-a1d2-4b59-97cd-ad08caf574ed",
   "metadata": {},
   "outputs": [],
   "source": []
  }
 ],
 "metadata": {
  "kernelspec": {
   "display_name": "Python 3 (ipykernel)",
   "language": "python",
   "name": "python3"
  },
  "language_info": {
   "codemirror_mode": {
    "name": "ipython",
    "version": 3
   },
   "file_extension": ".py",
   "mimetype": "text/x-python",
   "name": "python",
   "nbconvert_exporter": "python",
   "pygments_lexer": "ipython3",
   "version": "3.12.4"
  }
 },
 "nbformat": 4,
 "nbformat_minor": 5
}
