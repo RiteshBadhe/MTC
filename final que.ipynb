{
 "cells": [
  {
   "cell_type": "markdown",
   "id": "9eb66d5a-04ab-4555-aa49-9bf37d30394e",
   "metadata": {},
   "source": [
    "FINAL  QUESTION FOR 8 MARKS"
   ]
  },
  {
   "cell_type": "markdown",
   "id": "12929b68-776d-4a5c-a4de-44ff37941049",
   "metadata": {},
   "source": [
    "1) Apply Python program in each of the following transformations on the point P[3,−1]"
   ]
  },
  {
   "cell_type": "markdown",
   "id": "cb615e3c-3f1d-4986-be0a-7f672a1383af",
   "metadata": {},
   "source": [
    "(I) Refection through X−axis."
   ]
  },
  {
   "cell_type": "code",
   "execution_count": 4,
   "id": "29b734de-b65a-4528-a12b-98606766f0f9",
   "metadata": {},
   "outputs": [
    {
     "data": {
      "text/latex": [
       "$\\displaystyle \\operatorname{Point2D}\\left(3, 1\\right)$"
      ],
      "text/plain": [
       "Point2D(3, 1)"
      ]
     },
     "execution_count": 4,
     "metadata": {},
     "output_type": "execute_result"
    }
   ],
   "source": [
    "from sympy import*\n",
    "P=Point(3,-1) \n",
    "P.transform(Matrix([[1,0,0],[0,-1,0],[0,0,1]]))"
   ]
  },
  {
   "cell_type": "markdown",
   "id": "de13a86c-747c-409f-9640-3e7ce56d3eab",
   "metadata": {},
   "source": [
    "(II)Scaling in X−coordinate by factor 2."
   ]
  },
  {
   "cell_type": "code",
   "execution_count": 7,
   "id": "31079b06-60ba-4396-b19a-c0730ae37403",
   "metadata": {},
   "outputs": [
    {
     "data": {
      "text/latex": [
       "$\\displaystyle \\operatorname{Point2D}\\left(6, 0\\right)$"
      ],
      "text/plain": [
       "Point2D(6, 0)"
      ]
     },
     "execution_count": 7,
     "metadata": {},
     "output_type": "execute_result"
    }
   ],
   "source": [
    "P.scale(2,0)"
   ]
  },
  {
   "cell_type": "markdown",
   "id": "c60f234f-01b6-45ba-a959-7c1c2ae3391b",
   "metadata": {},
   "source": [
    "(III)Scaling in Y−coordinate by factor 1.5."
   ]
  },
  {
   "cell_type": "code",
   "execution_count": 10,
   "id": "ee022b9a-58a1-4e5b-a790-a17d0d34f243",
   "metadata": {},
   "outputs": [
    {
     "data": {
      "text/latex": [
       "$\\displaystyle \\operatorname{Point2D}\\left(0, - \\frac{3}{2}\\right)$"
      ],
      "text/plain": [
       "Point2D(0, -3/2)"
      ]
     },
     "execution_count": 10,
     "metadata": {},
     "output_type": "execute_result"
    }
   ],
   "source": [
    "P.scale(0,1.5)"
   ]
  },
  {
   "cell_type": "markdown",
   "id": "9099b123-678c-4101-a4a0-aab864c11334",
   "metadata": {},
   "source": [
    "(IV)Reflection through the line y = x."
   ]
  },
  {
   "cell_type": "code",
   "execution_count": 13,
   "id": "c682159f-a0fb-48c6-8f40-ba9ce37e4c2a",
   "metadata": {},
   "outputs": [
    {
     "data": {
      "text/latex": [
       "$\\displaystyle \\operatorname{Point2D}\\left(0, - \\frac{3}{2}\\right)$"
      ],
      "text/plain": [
       "Point2D(0, -3/2)"
      ]
     },
     "execution_count": 13,
     "metadata": {},
     "output_type": "execute_result"
    }
   ],
   "source": [
    "P.scale(0,3/2)"
   ]
  },
  {
   "cell_type": "markdown",
   "id": "c66144f2-420d-4e47-8b1a-79fd8f7fceb3",
   "metadata": {},
   "source": [
    "(III)Rotation about origin through an angle 30◦."
   ]
  },
  {
   "cell_type": "code",
   "execution_count": 18,
   "id": "9d32b025-9cf6-49a0-bf98-ae7bd1172eb4",
   "metadata": {},
   "outputs": [
    {
     "data": {
      "text/latex": [
       "$\\displaystyle \\operatorname{Point2D}\\left(\\frac{1}{2} + \\frac{3 \\sqrt{3}}{2}, \\frac{3}{2} - \\frac{\\sqrt{3}}{2}\\right)$"
      ],
      "text/plain": [
       "Point2D(1/2 + 3*sqrt(3)/2, 3/2 - sqrt(3)/2)"
      ]
     },
     "execution_count": 18,
     "metadata": {},
     "output_type": "execute_result"
    }
   ],
   "source": [
    "P.rotate(pi/6)"
   ]
  },
  {
   "cell_type": "markdown",
   "id": "1536dafd-c6fa-4f14-ab9d-c9f9c9fd78bb",
   "metadata": {},
   "source": [
    "(IV)Reflection through the line y = −x."
   ]
  },
  {
   "cell_type": "code",
   "execution_count": 21,
   "id": "eab2a8a5-0bbd-4857-bba6-bc45ca61fafc",
   "metadata": {},
   "outputs": [
    {
     "data": {
      "text/latex": [
       "$\\displaystyle \\operatorname{Point2D}\\left(1, -3\\right)$"
      ],
      "text/plain": [
       "Point2D(1, -3)"
      ]
     },
     "execution_count": 21,
     "metadata": {},
     "output_type": "execute_result"
    }
   ],
   "source": [
    "x,y=symbols('x y')\n",
    "P.reflect(Line(y+x))"
   ]
  },
  {
   "cell_type": "markdown",
   "id": "7a864f21-6666-48bf-939c-be4c0343a78c",
   "metadata": {},
   "source": [
    "(I)Shearing in Y direction by 7 units."
   ]
  },
  {
   "cell_type": "code",
   "execution_count": 24,
   "id": "cf81f335-335f-4d01-825c-8fe84ca1af4f",
   "metadata": {},
   "outputs": [
    {
     "data": {
      "text/latex": [
       "$\\displaystyle \\operatorname{Point2D}\\left(-2, -10\\right)$"
      ],
      "text/plain": [
       "Point2D(-2, -10)"
      ]
     },
     "execution_count": 24,
     "metadata": {},
     "output_type": "execute_result"
    }
   ],
   "source": [
    "from sympy import* \n",
    "P=Point(-2,4)\n",
    "P.transform(Matrix([[1,7,0],[0,1,0],[0,0,1]]))"
   ]
  },
  {
   "cell_type": "markdown",
   "id": "8817e364-661d-422f-90cf-e18a83622a9e",
   "metadata": {},
   "source": [
    "(II)Scaling in X and Y direction by 7/2 and 7 units respectively."
   ]
  },
  {
   "cell_type": "code",
   "execution_count": 27,
   "id": "a288fb16-b3e5-4b61-ac17-1e73a032e057",
   "metadata": {},
   "outputs": [
    {
     "data": {
      "text/latex": [
       "$\\displaystyle \\operatorname{Point2D}\\left(-7, 8\\right)$"
      ],
      "text/plain": [
       "Point2D(-7, 8)"
      ]
     },
     "execution_count": 27,
     "metadata": {},
     "output_type": "execute_result"
    }
   ],
   "source": [
    "P.scale(7/2,2)"
   ]
  },
  {
   "cell_type": "markdown",
   "id": "62e9021a-04d7-436d-b0d7-e8176ab7c6ca",
   "metadata": {},
   "source": [
    "4)Write a python program to draw polygon with vertices [3,3],[4,6],[5,4],[4,2] and [2,2], and its translation in x and y direction by factors -2 and 1 respectively."
   ]
  },
  {
   "cell_type": "code",
   "execution_count": 30,
   "id": "ff316663-0416-432b-bac5-650d90ce9acb",
   "metadata": {},
   "outputs": [
    {
     "data": {
      "image/svg+xml": [
       "<svg xmlns=\"http://www.w3.org/2000/svg\"\n",
       "            xmlns:xlink=\"http://www.w3.org/1999/xlink\"\n",
       "            width=\"100.0\" height=\"100.0\" viewBox=\"-0.400000000000000 2.60000000000000 3.80000000000000 4.80000000000000\"\n",
       "            preserveAspectRatio=\"xMinYMin meet\">\n",
       "            <defs>\n",
       "                <marker id=\"markerCircle\" markerWidth=\"8\" markerHeight=\"8\"\n",
       "                    refx=\"5\" refy=\"5\" markerUnits=\"strokeWidth\">\n",
       "                    <circle cx=\"5\" cy=\"5\" r=\"1.5\" style=\"stroke: none; fill:#000000;\"/>\n",
       "                </marker>\n",
       "                <marker id=\"markerArrow\" markerWidth=\"13\" markerHeight=\"13\" refx=\"2\" refy=\"4\"\n",
       "                       orient=\"auto\" markerUnits=\"strokeWidth\">\n",
       "                    <path d=\"M2,2 L2,6 L6,4\" style=\"fill: #000000;\" />\n",
       "                </marker>\n",
       "                <marker id=\"markerReverseArrow\" markerWidth=\"13\" markerHeight=\"13\" refx=\"6\" refy=\"4\"\n",
       "                       orient=\"auto\" markerUnits=\"strokeWidth\">\n",
       "                    <path d=\"M6,2 L6,6 L2,4\" style=\"fill: #000000;\" />\n",
       "                </marker>\n",
       "            </defs><g transform=\"matrix(1,0,0,-1,0,10.0000000000000)\"><path fill-rule=\"evenodd\" fill=\"#66cc99\" stroke=\"#555555\" stroke-width=\"0.0960000000000000\" opacity=\"0.6\" d=\"M 1.00000000000000,4.00000000000000 L 2.00000000000000,7.00000000000000 L 3.00000000000000,5.00000000000000 L 2.00000000000000,3.00000000000000 L 0,3.00000000000000 z\" /></g></svg>"
      ],
      "text/latex": [
       "$\\displaystyle \\operatorname{Polygon}\\left(\\operatorname{Point2D}\\left(1, 4\\right), \\operatorname{Point2D}\\left(2, 7\\right), \\operatorname{Point2D}\\left(3, 5\\right), \\operatorname{Point2D}\\left(2, 3\\right), \\operatorname{Point2D}\\left(0, 3\\right)\\right)$"
      ],
      "text/plain": [
       "Polygon(Point2D(1, 4), Point2D(2, 7), Point2D(3, 5), Point2D(2, 3), Point2D(0, 3))"
      ]
     },
     "execution_count": 30,
     "metadata": {},
     "output_type": "execute_result"
    }
   ],
   "source": [
    "from sympy import*\n",
    "A = Point(3,3) \n",
    "B = Point(4,6)\n",
    "C = Point(5,4) \n",
    "D = Point(4,2)\n",
    "E = Point(2,2) \n",
    "P = Polygon(A,B,C,D,E) \n",
    "P.translate(-2,1)"
   ]
  },
  {
   "cell_type": "markdown",
   "id": "fccaad6c-35d5-4bd1-b0a4-322f9e3a4769",
   "metadata": {},
   "source": [
    "5) Plot 3D axes with labels as x−axis and z−axis and also plot following points with given coordinates in one graph. (I) (70,−25,15) as a diamond in black colour, (II) (50,72,−45) as a in green colour, (III) (58,−82,65) as a dot in green colour, (IV) (20,72,−45) as a in Red colour."
   ]
  },
  {
   "cell_type": "code",
   "execution_count": 37,
   "id": "e263da15-4d6b-4514-b86b-b6a26d86714f",
   "metadata": {},
   "outputs": [
    {
     "data": {
      "image/png": "[encoded data removed]",
      "text/plain": [
       "<Figure size 400x400 with 1 Axes>"
      ]
     },
     "metadata": {},
     "output_type": "display_data"
    }
   ],
   "source": [
    "from mpl_toolkits import mplot3d \n",
    "import matplotlib.pyplot as plt \n",
    "import numpy as np \n",
    "fig=plt.figure(figsize=(4,4))\n",
    "ax=fig.add_subplot(111,projection='3d') \n",
    "ax.scatter(70,-25,15,c='k',marker='^')\n",
    "ax.scatter(50,72,-45,c='g',marker='*') \n",
    "ax.scatter(58,-82,65,c='g',marker='*')\n",
    "ax.scatter(20,72,-45,c='r',marker='*') \n",
    "plt.show()"
   ]
  },
  {
   "cell_type": "code",
   "execution_count": null,
   "id": "1b7db021-a8fb-42ed-b828-d21903b31807",
   "metadata": {},
   "outputs": [],
   "source": []
  }
 ],
 "metadata": {
  "kernelspec": {
   "display_name": "Python 3 (ipykernel)",
   "language": "python",
   "name": "python3"
  },
  "language_info": {
   "codemirror_mode": {
    "name": "ipython",
    "version": 3
   },
   "file_extension": ".py",
   "mimetype": "text/x-python",
   "name": "python",
   "nbconvert_exporter": "python",
   "pygments_lexer": "ipython3",
   "version": "3.12.4"
  }
 },
 "nbformat": 4,
 "nbformat_minor": 5
}
